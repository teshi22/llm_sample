{
 "cells": [
  {
   "cell_type": "markdown",
   "metadata": {},
   "source": [
    "# Cognitive Searchのベクトル検索\n",
    "1. ナレッジ登録\n",
    "2. ベクトル検索"
   ]
  },
  {
   "cell_type": "code",
   "execution_count": 1,
   "metadata": {},
   "outputs": [],
   "source": [
    "import os\n",
    "from dotenv import load_dotenv\n",
    "from langchain.embeddings.openai import OpenAIEmbeddings\n",
    "from langchain.vectorstores.azuresearch import AzureSearch\n",
    "from langchain.text_splitter import CharacterTextSplitter\n",
    "from langchain.document_loaders import PyPDFLoader\n",
    "from azure.search.documents.indexes.models import (\n",
    "    SearchableField,\n",
    "    SearchField,\n",
    "    SearchFieldDataType,\n",
    "    SimpleField\n",
    ")\n",
    "\n",
    "load_dotenv()\n",
    "\n",
    "# Azure OpenAIのエンドポイントとAPIキー\n",
    "AZURE_OPENAI_ENDPOINT=os.getenv(\"AZURE_OPENAI_ENDPOINT\")\n",
    "AZURE_OPENAI_API_KEY=os.getenv(\"AZURE_OPENAI_API_KEY\")\n",
    "# Embeddingモデルのデプロイ名\n",
    "AZURE_OPENAI_EMBEDDINGS_DEPLOYMENT_NAME=os.getenv(\"AZURE_OPENAI_EMBEDDINGS_DEPLOYMENT_NAME\")\n",
    "# Azure SearchのエンドポイントとAPIキー\n",
    "AZURE_SEARCH_ENDPOINT=os.getenv(\"AZURE_SEARCH_ENDPOINT\")\n",
    "AZURE_SEARCH_SERVICE_NAME=os.getenv(\"AZURE_SEARCH_SERVICE_NAME\")\n",
    "AZURE_SEARCH_API_KEY_ADMIN=os.getenv(\"AZURE_SEARCH_API_KEY_ADMIN\")\n"
   ]
  },
  {
   "cell_type": "markdown",
   "metadata": {},
   "source": [
    "## PDFファイルの分割\n",
    "- [LangChain -> PDF Loader](https://python.langchain.com/docs/modules/data_connection/document_loaders/pdf)\n",
    "- [LangChain -> Text Splitter](https://python.langchain.com/docs/modules/data_connection/document_transformers/)"
   ]
  },
  {
   "cell_type": "code",
   "execution_count": 2,
   "metadata": {},
   "outputs": [
    {
     "name": "stdout",
     "output_type": "stream",
     "text": [
      "{\n",
      "  \"page_content\": \"Azure OpenAI Service とは\\n[アーティクル ]•2023/05/01\\nAzure OpenAI Service では、 GPT-3 、 Codex 、 Embeddings モデル  シリーズなど\\nOpenAI の強⼒な⾔語モデルを  REST API として使⽤できます。  さらに、新しい  GPT-4\\nおよび  ChatGPT (gpt-35-turbo) モデル  シリーズがプレビューで利⽤可能になりまし\\nた。 これらのモデルは、特定のタスクに合わせて簡単に調整できます。たとえば、コ\\nンテンツの⽣成、まとめ、セマンティック検索、⾃然⾔語からコードへの翻訳などで\\nす。 ユーザーは、 REST API 、 Python SDK 、または  Azure OpenAI S tudio の  Web ベース\\nのインターフェイスを介してサービスにアクセスできます。\\n機能 Azur e OpenAI\\n使⽤できるモデル 新しい  GPT-4 シリーズ  ( プレビュー )\\nGPT-3 ベース  シリーズ\\n新しい  ChatGPT (gpt -35-turbo) ( プレビュー )\\nCodex シリーズ\\n埋め込みシリーズ\\n詳細については、 モデルに関するページを参照してください。\\n微調整 Ada\\nBabbage\\nCurie\\nCushman*\\nDavinci*\\n* 現在は利⽤できません。  ** ⽶国東部と⻄ヨーロッパでは、現在新\\n規のお客様は微調整を利⽤できません。  ⽶国ベースのトレーニング\\nには、⽶国中南部をご利⽤ください\\nPrice こちらで⼊⼿可能\\n仮想ネットワークのサポ\\nート & プライベート  リン\\nクのサポートはい\\nマネージド  ID はい、 Azure Active Directory 経由\\nUI エクスペリエンス アカウントとリソースの管理には  Azur e Portal、\\nモデルの探索と微調整には  Azur e OpenAI Ser vice S tudio\\nリージョン別の提供状況 ⽶国東部\\n⽶国中南部\\n⻄ヨーロッパ機能の概要\",\n",
      "  \"metadata\": {\n",
      "    \"source\": \"../data/Azure OpenAI Service とは - Azure Cognitive Services _ Microsoft Learn.pdf\",\n",
      "    \"page\": 0\n",
      "  }\n",
      "}\n",
      "{\n",
      "  \"page_content\": \"機能 Azur e OpenAI\\nコンテンツのフィルター\\n処理プロンプトと⼊⼒候補は、⾃動システムを使ってコンテンツ  ポリシ\\nーに対して評価されます。  重⼤度の⾼いコンテンツはフィルターで\\n除外されます。\\nMicrosoft は、⼈を第⼀に考える原則に基づいて、 AI の発展に取り組んでいます。\\nAzure OpenAI で使⽤できる⽣成モデルには、かなりの潜在的利益がありますが、慎重\\nな設計と熟考した軽減策がない場合、そのようなモデルによって、正しくない、また\\nは有害なコンテンツが⽣成される可能性があります。  Microsoft は、悪⽤や意図しない\\n損害から保護するために多⼤な投資を⾏っています。たとえば、明確に定義したユー\\nス ケースを⽰すことを申請者の要件とする、 責任ある  AI 使⽤に関する  Microsoft の原\\n則を取り⼊れる、顧客をサポートするコンテンツ  フィルターを構築する、オンボー\\nドされた顧客に対して責任ある  AI 実装のガイダンスを提供するなどです。\\nAzure OpenAI にアクセスするにはどうすればよいですか ?\\n⾼い需要、今後の製品の機能強化、 Microsoft の責任ある  AI へのコミットメント を\\n考慮し、現在、アクセスは制限されています。  現在のところ、 Microsoft と既存のパー\\nトナーシップ関係があるお客様、リスクの低いユース  ケース、軽減策の取り⼊れに取\\nり組んでいるお客様を対象としています。\\nより具体的な情報は、申請フォームに記載されています。  Azure OpenAI に対するアク\\nセスを拡⼤できるよう、責任を持って取り組んでいますので、しばらくお待ちくださ\\nい。\\nアクセスはこちらからお申し込みください。\\n[今すぐ適⽤する ]\\nAzure OpenAI Service では、 OpenAI GPT-4 、 GPT-3 、 Codex 、 DALL-E モデルを使⽤し\\nた⾼度な⾔語  AI を顧客に提供し、 Azure のセキュリティとエンタープライズの約束を\\n実現します。  Azure OpenAI は  OpenAI と共に  API を共同開発し、互換性を確保し、⼀\\n⽅から他⽅へのスムーズな移⾏を保証します。責任ある  AI\\nAzure OpenAI にアクセスするにはどうすれば\\nよいですか ?\\nAzure OpenAI と  OpenAI の⽐較\",\n",
      "  \"metadata\": {\n",
      "    \"source\": \"../data/Azure OpenAI Service とは - Azure Cognitive Services _ Microsoft Learn.pdf\",\n",
      "    \"page\": 1\n",
      "  }\n",
      "}\n",
      "{\n",
      "  \"page_content\": \"Azure OpenAI を使⽤すると、顧客は  OpenAI と同じモデルを実⾏しながら、 Microsoft\\nAzure のセキュリティ機能を使⽤できます。  Azure OpenAI では、プライベート  ネット\\nワーク、リージョンの可⽤性、責任ある  AI コンテンツのフィルター処理が提供されま\\nす。\\n⼊⼒候補エンドポイントは、 API サービスのコア  コンポーネントです。  この  API は、\\nモデルのテキストイン、テキストアウト  インターフェイスへのアクセスを提供しま\\nす。 ユーザーは、英語のテキスト  コマンドを含む⼊⼒ プロンプトを⼊⼒するだけで、\\nモデルによってテキスト ⼊⼒候補が⽣成されます。\\n単純なプロンプトと⼊⼒候補の例を次に⽰します。\\nプロンプト : \\\"\\\"\\\" count to 5 in a for loop \\\"\\\"\\\"\\n⼊⼒候補 : for i in range(1, 6): print(i)\\nAzure OpenAI では、テキストをトークンに分割して処理します。  トークンには、単語\\nまたは⽂字のチャンクのみを指定できます。  たとえば、 \\\"hamburger\\\" という単語はト\\nークン  \\\"ham\\\"、 \\\"bur\\\" 、 \\\"ger\\\" に分割されますが、 \\\"pear\\\" のような短くて⼀般的な単語\\nは 1 つのトークンです。  多くのトークンは、 \\\"hello\\\" や  \\\"bye\\\" などの空⽩で始まりま\\nす。\\n所与の要求で処理されるトークンの合計数は、⼊⼒、出⼒、および要求パラメーター\\nの⻑さによって異なります。  処理されるトークンの量は、モデルの応答待機時間とス\\nループットにも影響します。\\nAzure OpenAI は、 Azure の新しい製品オファリングです。  Azure OpenAI は、他の\\nAzure 製品と同じように、 Azure サブスクリプションにこのサービス⽤の リソースまた\\nはインスタンスを作成 して使⽤を開始できます。  Azure のリソース管理設計 について\\n詳しくご覧いただけます。主要な概念\\nプロンプトと⼊⼒候補\\nトークン\\nリソース\\nデプロイメント\",\n",
      "  \"metadata\": {\n",
      "    \"source\": \"../data/Azure OpenAI Service とは - Azure Cognitive Services _ Microsoft Learn.pdf\",\n",
      "    \"page\": 2\n",
      "  }\n",
      "}\n",
      "{\n",
      "  \"page_content\": \"Azure OpenAI リソースを作成したら、 API 呼び出しを開始してテキストを⽣成する前\\nに、モデルをデプロイする必要があります。  このアクションは、 Deployment API を使\\n⽤して実⾏できます。  これらの  API を使⽤すると、使⽤するモデルを指定できます。\\nAzure OpenAI で使⽤されるモデルでは、⽣成の呼び出しで提供される⾃然⾔語での指\\n⽰と例を使⽤して、要求されているタスクと必要なスキルを識別しています。  この⽅\\n法を使⽤する場合、プロンプトの最初の部分には、⾃然⾔語の指⽰や、必要な特定の\\nタスクの例が含まれます。  次に、最も可能性の⾼い次のテキスト部分を予測すること\\nで、モデルによってタスクが完了します。  この⼿法は、 \\\" コンテキスト内 \\\" 学習と呼ば\\nれます。  これらのモデルは、この⼿順では再トレーニングされませんが、代わりにプ\\nロンプトに含めるコンテキストに基づいて予測を⾏います。\\nコンテキスト内学習には、主に  3 つのアプローチがあります。少数ショット、ワンシ\\nョット、ゼロショットです。  これらの⽅法は、モデルに与えられるタスク固有のデー\\nタの量によって異なります。\\n少数ショット : この場合、ユーザーは、期待される応答形式と内容を⽰すいくつかの例\\nを通話プロンプトに含めます。  次の例は、複数の例を提供する数個のプロンプトを⽰\\nしています  (最後の答えはモデルによって⽣成されます ) 。コンテキスト内学習\\n    Convert the questions to a command:\\n    Q: Ask Constance if we need some bread.\\n    A: send-msg `find constance` Do we need some bread?\\n    Q: Send a message to Greg to figure out if things are ready for  \\nWednesday.\\n    A: send-msg `find greg` Is everything ready for Wednesday?\\n    Q: Ask Ilya if we're still having our meeting this evening.\\n    A: send-msg `find ilya` Are we still having a meeting this evening?\\n    Q: Contact the ski store and figure out if I can get my skis fixed  \\nbefore I leave on Thursday.\\n    A: send-msg `find ski store` Would it be possible to get my skis fixed  \\nbefore I leave on Thursday?\\n    Q: Thank Nicolas for lunch.\\n    A: send-msg `find nicolas` Thank you for lunch!\\n    Q: Tell Constance that I won't be home before 19:30 tonight — unmovable  \\nmeeting.\\n    A: send-msg `find constance` I won't be home before 19:30 tonight. I  \\nhave a meeting I can't move.\\n    Q: Tell John that I need to book an appointment at 10:30.\\n    A:\",\n",
      "  \"metadata\": {\n",
      "    \"source\": \"../data/Azure OpenAI Service とは - Azure Cognitive Services _ Microsoft Learn.pdf\",\n",
      "    \"page\": 3\n",
      "  }\n",
      "}\n",
      "{\n",
      "  \"page_content\": \"通常、 1 つのプロンプトの最⼤⼊⼒⻑に収まる数に応じて、例の数は  0 から  100 の範\\n囲です。  最⼤⼊⼒⻑は、使⽤する特定のモデルによって異なる場合があります。  少数\\nショット学習を使⽤すると、正確な予測に必要なタスク固有のデータの量を⼤幅に削\\n減できます。  このアプローチは、通常、微調整されたモデルよりもパフォーマンスは\\n正確ではありません。\\nワンショット : この場合は、 1 つの例のみが提供されることを除き、少数ショットの⽅\\n法と同じです。\\nゼロショット : この場合、モデルに例は提供されず、タスク要求のみが提供されます。\\nこのサービスでは、ユーザーはいくつかのモデルにアクセスできます。  各モデルに\\nは、異なる機能と価格ポイントが⽤意されています。\\nGPT-4 モデルは、利⽤可能な最新のモデルです。  これらのモデルは現在プレビュー段\\n階です。  既存の  Azure OpenAI のお客様は、このフォームに⼊⼒してアクセスを申請\\nできます。\\nGPT-3 ベース  モデルは、 Davinci 、 Curie 、 Babbage 、 Ada と呼ばれます  ( 機能では降\\n順、速度では昇順 ) 。\\nCodex シリーズのモデルは  GPT-3 の後継であり、⾃然⾔語とコードの両⽅でトレーニ\\nングされ、⾃然⾔語からコードへのユース  ケースに役⽴ちます。  各モデルの詳細につ\\nいては、モデルの概念に関するページ を参照してください。\\nAzure OpenAI をサポートする基となるモデル に関する記事を確認します。モデル\\n次の⼿順\",\n",
      "  \"metadata\": {\n",
      "    \"source\": \"../data/Azure OpenAI Service とは - Azure Cognitive Services _ Microsoft Learn.pdf\",\n",
      "    \"page\": 4\n",
      "  }\n",
      "}\n"
     ]
    }
   ],
   "source": [
    "# PDFを読み込んで、テキストを分割する\n",
    "loader = PyPDFLoader(\"../data/Azure OpenAI Service とは - Azure Cognitive Services _ Microsoft Learn.pdf\")\n",
    "\n",
    "documents = loader.load()\n",
    "text_splitter = CharacterTextSplitter(chunk_size=1000, chunk_overlap=0)\n",
    "docs = text_splitter.split_documents(documents)\n",
    "\n",
    "# 分割後のドキュメントを表示\n",
    "for doc in docs:\n",
    "    print(doc.json(indent=2, ensure_ascii=False))"
   ]
  },
  {
   "cell_type": "markdown",
   "metadata": {},
   "source": [
    "## Cognitive Searchのインデックス作成\n",
    "- プレビュー版(azure-search-documents==11.4.0b6)のSDKを利用\n",
    "- https://python.langchain.com/docs/integrations/vectorstores/azuresearch\n",
    "- https://api.python.langchain.com/en/latest/vectorstores/langchain.vectorstores.azuresearch.AzureSearch.html\n"
   ]
  },
  {
   "cell_type": "code",
   "execution_count": 16,
   "metadata": {},
   "outputs": [
    {
     "data": {
      "text/plain": [
       "['Nzg4NmMzN2QtMjhkNS00ZWRmLTlkODgtMjNmMTAzYTk0NWJj',\n",
       " 'Yzg4YjM5ZDctYjI1MS00YmY4LWFjMmItZTY4MjMzOTU0OGZm',\n",
       " 'YjVjNGM2YjAtZjQwZi00YWViLTk2ZjQtYTA0MTMxOTgyYjAx',\n",
       " 'YjY1YWRkYzMtNjEwMC00YzQ3LWE0MDktMTg2NjZhYjRlZDk3',\n",
       " 'YTg4NDIxY2ItYWQ0Yi00NDdlLWJjYTYtM2I1MjcyYzExNWFm']"
      ]
     },
     "execution_count": 16,
     "metadata": {},
     "output_type": "execute_result"
    }
   ],
   "source": [
    "# emmbeddingモデルを定義\n",
    "embeddings = OpenAIEmbeddings(\n",
    "    openai_api_type=\"azure\",\n",
    "    model='text-embedding-ada-002',\n",
    "    openai_api_base=AZURE_OPENAI_ENDPOINT,\n",
    "    openai_api_key=AZURE_OPENAI_API_KEY,\n",
    "    deployment=AZURE_OPENAI_EMBEDDINGS_DEPLOYMENT_NAME)\n",
    "\n",
    "# Cognitive Searchのインデックスを作成\n",
    "fields = [\n",
    "    SimpleField(\n",
    "        name=\"id\",\n",
    "        type=SearchFieldDataType.String,\n",
    "        key=True,\n",
    "        filterable=True,\n",
    "    ),\n",
    "    SearchableField(\n",
    "        name=\"content\",\n",
    "        type=SearchFieldDataType.String,\n",
    "        searchable=True,\n",
    "        analyzer_name=\"ja.lucene\",\n",
    "    ),\n",
    "    SearchField(\n",
    "        name=\"content_vector\",\n",
    "        type=SearchFieldDataType.Collection(SearchFieldDataType.Single),\n",
    "        searchable=True,\n",
    "        vector_search_dimensions=len(embeddings.embed_query(\"Text\")),\n",
    "        vector_search_configuration=\"default\",\n",
    "        \n",
    "    ),\n",
    "    SearchableField(\n",
    "        name=\"metadata\",\n",
    "        type=SearchFieldDataType.String,\n",
    "        searchable=True,\n",
    "    ),\n",
    "]\n",
    "\n",
    "# インデックス名\n",
    "index_name = \"sample-index\"\n",
    "\n",
    "# ベクトルストアを作成\n",
    "vector_store = AzureSearch(\n",
    "    azure_search_endpoint=AZURE_SEARCH_ENDPOINT,\n",
    "    azure_search_key=AZURE_SEARCH_API_KEY_ADMIN,\n",
    "    index_name=index_name,\n",
    "    embedding_function=embeddings.embed_query,\n",
    "    fields=fields\n",
    ")\n",
    "\n",
    "# ベクトルDBに追加\n",
    "vector_store.add_documents(documents=docs)"
   ]
  },
  {
   "cell_type": "markdown",
   "metadata": {},
   "source": [
    "## ベクトル検索"
   ]
  },
  {
   "cell_type": "code",
   "execution_count": 17,
   "metadata": {},
   "outputs": [
    {
     "name": "stdout",
     "output_type": "stream",
     "text": [
      "{\n",
      "  \"page_content\": \"Azure OpenAI Service とは\\n[アーティクル ]•2023/05/01\\nAzure OpenAI Service では、 GPT-3 、 Codex 、 Embeddings モデル  シリーズなど\\nOpenAI の強⼒な⾔語モデルを  REST API として使⽤できます。  さらに、新しい  GPT-4\\nおよび  ChatGPT (gpt-35-turbo) モデル  シリーズがプレビューで利⽤可能になりまし\\nた。 これらのモデルは、特定のタスクに合わせて簡単に調整できます。たとえば、コ\\nンテンツの⽣成、まとめ、セマンティック検索、⾃然⾔語からコードへの翻訳などで\\nす。 ユーザーは、 REST API 、 Python SDK 、または  Azure OpenAI S tudio の  Web ベース\\nのインターフェイスを介してサービスにアクセスできます。\\n機能 Azur e OpenAI\\n使⽤できるモデル 新しい  GPT-4 シリーズ  ( プレビュー )\\nGPT-3 ベース  シリーズ\\n新しい  ChatGPT (gpt -35-turbo) ( プレビュー )\\nCodex シリーズ\\n埋め込みシリーズ\\n詳細については、 モデルに関するページを参照してください。\\n微調整 Ada\\nBabbage\\nCurie\\nCushman*\\nDavinci*\\n* 現在は利⽤できません。  ** ⽶国東部と⻄ヨーロッパでは、現在新\\n規のお客様は微調整を利⽤できません。  ⽶国ベースのトレーニング\\nには、⽶国中南部をご利⽤ください\\nPrice こちらで⼊⼿可能\\n仮想ネットワークのサポ\\nート & プライベート  リン\\nクのサポートはい\\nマネージド  ID はい、 Azure Active Directory 経由\\nUI エクスペリエンス アカウントとリソースの管理には  Azur e Portal、\\nモデルの探索と微調整には  Azur e OpenAI Ser vice S tudio\\nリージョン別の提供状況 ⽶国東部\\n⽶国中南部\\n⻄ヨーロッパ機能の概要\",\n",
      "  \"metadata\": {\n",
      "    \"source\": \"../data/Azure OpenAI Service とは - Azure Cognitive Services _ Microsoft Learn.pdf\",\n",
      "    \"page\": 0\n",
      "  }\n",
      "}\n",
      "{\n",
      "  \"page_content\": \"Azure OpenAI を使⽤すると、顧客は  OpenAI と同じモデルを実⾏しながら、 Microsoft\\nAzure のセキュリティ機能を使⽤できます。  Azure OpenAI では、プライベート  ネット\\nワーク、リージョンの可⽤性、責任ある  AI コンテンツのフィルター処理が提供されま\\nす。\\n⼊⼒候補エンドポイントは、 API サービスのコア  コンポーネントです。  この  API は、\\nモデルのテキストイン、テキストアウト  インターフェイスへのアクセスを提供しま\\nす。 ユーザーは、英語のテキスト  コマンドを含む⼊⼒ プロンプトを⼊⼒するだけで、\\nモデルによってテキスト ⼊⼒候補が⽣成されます。\\n単純なプロンプトと⼊⼒候補の例を次に⽰します。\\nプロンプト : \\\"\\\"\\\" count to 5 in a for loop \\\"\\\"\\\"\\n⼊⼒候補 : for i in range(1, 6): print(i)\\nAzure OpenAI では、テキストをトークンに分割して処理します。  トークンには、単語\\nまたは⽂字のチャンクのみを指定できます。  たとえば、 \\\"hamburger\\\" という単語はト\\nークン  \\\"ham\\\"、 \\\"bur\\\" 、 \\\"ger\\\" に分割されますが、 \\\"pear\\\" のような短くて⼀般的な単語\\nは 1 つのトークンです。  多くのトークンは、 \\\"hello\\\" や  \\\"bye\\\" などの空⽩で始まりま\\nす。\\n所与の要求で処理されるトークンの合計数は、⼊⼒、出⼒、および要求パラメーター\\nの⻑さによって異なります。  処理されるトークンの量は、モデルの応答待機時間とス\\nループットにも影響します。\\nAzure OpenAI は、 Azure の新しい製品オファリングです。  Azure OpenAI は、他の\\nAzure 製品と同じように、 Azure サブスクリプションにこのサービス⽤の リソースまた\\nはインスタンスを作成 して使⽤を開始できます。  Azure のリソース管理設計 について\\n詳しくご覧いただけます。主要な概念\\nプロンプトと⼊⼒候補\\nトークン\\nリソース\\nデプロイメント\",\n",
      "  \"metadata\": {\n",
      "    \"source\": \"../data/Azure OpenAI Service とは - Azure Cognitive Services _ Microsoft Learn.pdf\",\n",
      "    \"page\": 2\n",
      "  }\n",
      "}\n",
      "{\n",
      "  \"page_content\": \"機能 Azur e OpenAI\\nコンテンツのフィルター\\n処理プロンプトと⼊⼒候補は、⾃動システムを使ってコンテンツ  ポリシ\\nーに対して評価されます。  重⼤度の⾼いコンテンツはフィルターで\\n除外されます。\\nMicrosoft は、⼈を第⼀に考える原則に基づいて、 AI の発展に取り組んでいます。\\nAzure OpenAI で使⽤できる⽣成モデルには、かなりの潜在的利益がありますが、慎重\\nな設計と熟考した軽減策がない場合、そのようなモデルによって、正しくない、また\\nは有害なコンテンツが⽣成される可能性があります。  Microsoft は、悪⽤や意図しない\\n損害から保護するために多⼤な投資を⾏っています。たとえば、明確に定義したユー\\nス ケースを⽰すことを申請者の要件とする、 責任ある  AI 使⽤に関する  Microsoft の原\\n則を取り⼊れる、顧客をサポートするコンテンツ  フィルターを構築する、オンボー\\nドされた顧客に対して責任ある  AI 実装のガイダンスを提供するなどです。\\nAzure OpenAI にアクセスするにはどうすればよいですか ?\\n⾼い需要、今後の製品の機能強化、 Microsoft の責任ある  AI へのコミットメント を\\n考慮し、現在、アクセスは制限されています。  現在のところ、 Microsoft と既存のパー\\nトナーシップ関係があるお客様、リスクの低いユース  ケース、軽減策の取り⼊れに取\\nり組んでいるお客様を対象としています。\\nより具体的な情報は、申請フォームに記載されています。  Azure OpenAI に対するアク\\nセスを拡⼤できるよう、責任を持って取り組んでいますので、しばらくお待ちくださ\\nい。\\nアクセスはこちらからお申し込みください。\\n[今すぐ適⽤する ]\\nAzure OpenAI Service では、 OpenAI GPT-4 、 GPT-3 、 Codex 、 DALL-E モデルを使⽤し\\nた⾼度な⾔語  AI を顧客に提供し、 Azure のセキュリティとエンタープライズの約束を\\n実現します。  Azure OpenAI は  OpenAI と共に  API を共同開発し、互換性を確保し、⼀\\n⽅から他⽅へのスムーズな移⾏を保証します。責任ある  AI\\nAzure OpenAI にアクセスするにはどうすれば\\nよいですか ?\\nAzure OpenAI と  OpenAI の⽐較\",\n",
      "  \"metadata\": {\n",
      "    \"source\": \"../data/Azure OpenAI Service とは - Azure Cognitive Services _ Microsoft Learn.pdf\",\n",
      "    \"page\": 1\n",
      "  }\n",
      "}\n"
     ]
    }
   ],
   "source": [
    "result_docs = vector_store.similarity_search(\n",
    "    query=\"Azure OpenAIで使えるモデルを教えて\",\n",
    "    k=3,\n",
    "    search_type=\"similarity\"\n",
    "    )\n",
    "\n",
    "for doc in result_docs:\n",
    "    print(doc.json(indent=2, ensure_ascii=False))"
   ]
  },
  {
   "cell_type": "markdown",
   "metadata": {},
   "source": [
    "## ハイブリッド検索"
   ]
  },
  {
   "cell_type": "code",
   "execution_count": 18,
   "metadata": {},
   "outputs": [
    {
     "name": "stdout",
     "output_type": "stream",
     "text": [
      "{\n",
      "  \"page_content\": \"Azure OpenAI Service とは\\n[アーティクル ]•2023/05/01\\nAzure OpenAI Service では、 GPT-3 、 Codex 、 Embeddings モデル  シリーズなど\\nOpenAI の強⼒な⾔語モデルを  REST API として使⽤できます。  さらに、新しい  GPT-4\\nおよび  ChatGPT (gpt-35-turbo) モデル  シリーズがプレビューで利⽤可能になりまし\\nた。 これらのモデルは、特定のタスクに合わせて簡単に調整できます。たとえば、コ\\nンテンツの⽣成、まとめ、セマンティック検索、⾃然⾔語からコードへの翻訳などで\\nす。 ユーザーは、 REST API 、 Python SDK 、または  Azure OpenAI S tudio の  Web ベース\\nのインターフェイスを介してサービスにアクセスできます。\\n機能 Azur e OpenAI\\n使⽤できるモデル 新しい  GPT-4 シリーズ  ( プレビュー )\\nGPT-3 ベース  シリーズ\\n新しい  ChatGPT (gpt -35-turbo) ( プレビュー )\\nCodex シリーズ\\n埋め込みシリーズ\\n詳細については、 モデルに関するページを参照してください。\\n微調整 Ada\\nBabbage\\nCurie\\nCushman*\\nDavinci*\\n* 現在は利⽤できません。  ** ⽶国東部と⻄ヨーロッパでは、現在新\\n規のお客様は微調整を利⽤できません。  ⽶国ベースのトレーニング\\nには、⽶国中南部をご利⽤ください\\nPrice こちらで⼊⼿可能\\n仮想ネットワークのサポ\\nート & プライベート  リン\\nクのサポートはい\\nマネージド  ID はい、 Azure Active Directory 経由\\nUI エクスペリエンス アカウントとリソースの管理には  Azur e Portal、\\nモデルの探索と微調整には  Azur e OpenAI Ser vice S tudio\\nリージョン別の提供状況 ⽶国東部\\n⽶国中南部\\n⻄ヨーロッパ機能の概要\",\n",
      "  \"metadata\": {\n",
      "    \"source\": \"../data/Azure OpenAI Service とは - Azure Cognitive Services _ Microsoft Learn.pdf\",\n",
      "    \"page\": 0\n",
      "  }\n",
      "}\n",
      "{\n",
      "  \"page_content\": \"機能 Azur e OpenAI\\nコンテンツのフィルター\\n処理プロンプトと⼊⼒候補は、⾃動システムを使ってコンテンツ  ポリシ\\nーに対して評価されます。  重⼤度の⾼いコンテンツはフィルターで\\n除外されます。\\nMicrosoft は、⼈を第⼀に考える原則に基づいて、 AI の発展に取り組んでいます。\\nAzure OpenAI で使⽤できる⽣成モデルには、かなりの潜在的利益がありますが、慎重\\nな設計と熟考した軽減策がない場合、そのようなモデルによって、正しくない、また\\nは有害なコンテンツが⽣成される可能性があります。  Microsoft は、悪⽤や意図しない\\n損害から保護するために多⼤な投資を⾏っています。たとえば、明確に定義したユー\\nス ケースを⽰すことを申請者の要件とする、 責任ある  AI 使⽤に関する  Microsoft の原\\n則を取り⼊れる、顧客をサポートするコンテンツ  フィルターを構築する、オンボー\\nドされた顧客に対して責任ある  AI 実装のガイダンスを提供するなどです。\\nAzure OpenAI にアクセスするにはどうすればよいですか ?\\n⾼い需要、今後の製品の機能強化、 Microsoft の責任ある  AI へのコミットメント を\\n考慮し、現在、アクセスは制限されています。  現在のところ、 Microsoft と既存のパー\\nトナーシップ関係があるお客様、リスクの低いユース  ケース、軽減策の取り⼊れに取\\nり組んでいるお客様を対象としています。\\nより具体的な情報は、申請フォームに記載されています。  Azure OpenAI に対するアク\\nセスを拡⼤できるよう、責任を持って取り組んでいますので、しばらくお待ちくださ\\nい。\\nアクセスはこちらからお申し込みください。\\n[今すぐ適⽤する ]\\nAzure OpenAI Service では、 OpenAI GPT-4 、 GPT-3 、 Codex 、 DALL-E モデルを使⽤し\\nた⾼度な⾔語  AI を顧客に提供し、 Azure のセキュリティとエンタープライズの約束を\\n実現します。  Azure OpenAI は  OpenAI と共に  API を共同開発し、互換性を確保し、⼀\\n⽅から他⽅へのスムーズな移⾏を保証します。責任ある  AI\\nAzure OpenAI にアクセスするにはどうすれば\\nよいですか ?\\nAzure OpenAI と  OpenAI の⽐較\",\n",
      "  \"metadata\": {\n",
      "    \"source\": \"../data/Azure OpenAI Service とは - Azure Cognitive Services _ Microsoft Learn.pdf\",\n",
      "    \"page\": 1\n",
      "  }\n",
      "}\n",
      "{\n",
      "  \"page_content\": \"Azure OpenAI を使⽤すると、顧客は  OpenAI と同じモデルを実⾏しながら、 Microsoft\\nAzure のセキュリティ機能を使⽤できます。  Azure OpenAI では、プライベート  ネット\\nワーク、リージョンの可⽤性、責任ある  AI コンテンツのフィルター処理が提供されま\\nす。\\n⼊⼒候補エンドポイントは、 API サービスのコア  コンポーネントです。  この  API は、\\nモデルのテキストイン、テキストアウト  インターフェイスへのアクセスを提供しま\\nす。 ユーザーは、英語のテキスト  コマンドを含む⼊⼒ プロンプトを⼊⼒するだけで、\\nモデルによってテキスト ⼊⼒候補が⽣成されます。\\n単純なプロンプトと⼊⼒候補の例を次に⽰します。\\nプロンプト : \\\"\\\"\\\" count to 5 in a for loop \\\"\\\"\\\"\\n⼊⼒候補 : for i in range(1, 6): print(i)\\nAzure OpenAI では、テキストをトークンに分割して処理します。  トークンには、単語\\nまたは⽂字のチャンクのみを指定できます。  たとえば、 \\\"hamburger\\\" という単語はト\\nークン  \\\"ham\\\"、 \\\"bur\\\" 、 \\\"ger\\\" に分割されますが、 \\\"pear\\\" のような短くて⼀般的な単語\\nは 1 つのトークンです。  多くのトークンは、 \\\"hello\\\" や  \\\"bye\\\" などの空⽩で始まりま\\nす。\\n所与の要求で処理されるトークンの合計数は、⼊⼒、出⼒、および要求パラメーター\\nの⻑さによって異なります。  処理されるトークンの量は、モデルの応答待機時間とス\\nループットにも影響します。\\nAzure OpenAI は、 Azure の新しい製品オファリングです。  Azure OpenAI は、他の\\nAzure 製品と同じように、 Azure サブスクリプションにこのサービス⽤の リソースまた\\nはインスタンスを作成 して使⽤を開始できます。  Azure のリソース管理設計 について\\n詳しくご覧いただけます。主要な概念\\nプロンプトと⼊⼒候補\\nトークン\\nリソース\\nデプロイメント\",\n",
      "  \"metadata\": {\n",
      "    \"source\": \"../data/Azure OpenAI Service とは - Azure Cognitive Services _ Microsoft Learn.pdf\",\n",
      "    \"page\": 2\n",
      "  }\n",
      "}\n"
     ]
    }
   ],
   "source": [
    "result_docs = vector_store.similarity_search(\n",
    "    query=\"Azure OpenAIで使えるモデルを教えて\",\n",
    "    k=3,\n",
    "    search_type=\"hybrid\"\n",
    ")\n",
    "\n",
    "for doc in result_docs:\n",
    "    print(doc.json(indent=2, ensure_ascii=False))"
   ]
  },
  {
   "cell_type": "markdown",
   "metadata": {},
   "source": [
    "## 検索スコア付きのベクトル検索\n",
    "- similarity_search_with_score()メソッドが実装されていない\n",
    "- 現状はlangchina経由ではなくazure-searchのSDKを直接使う方法しかない"
   ]
  },
  {
   "cell_type": "code",
   "execution_count": 21,
   "metadata": {},
   "outputs": [
    {
     "name": "stdout",
     "output_type": "stream",
     "text": [
      "###############\n",
      "ID: Nzg4NmMzN2QtMjhkNS00ZWRmLTlkODgtMjNmMTAzYTk0NWJj\n",
      "Score: 0.9002142\n",
      "Metadata: {\"source\": \"../data/Azure OpenAI Service \\u3068\\u306f - Azure Cognitive Services _ Microsoft Learn.pdf\", \"page\": 0}\n",
      "Content: Azure OpenAI Service とは\n",
      "[アーティクル ]•2023/05/01\n",
      "Azure OpenAI Service では、 GPT-3 、 Codex 、 Embeddings モデル  シリーズなど\n",
      "OpenAI の強⼒な⾔語モデルを  REST API として使⽤できます。  さらに、新しい  GPT-4\n",
      "および  ChatGPT (gpt-35-turbo) モデル  シリーズがプレビューで利⽤可能になりまし\n",
      "た。 これらのモデルは、特定のタスクに合わせて簡単に調整できます。たとえば、コ\n",
      "ンテンツの⽣成、まとめ、セマンティック検索、⾃然⾔語からコードへの翻訳などで\n",
      "す。 ユーザーは、 REST API 、 Python SDK 、または  Azure OpenAI S tudio の  Web ベース\n",
      "のインターフェイスを介してサービスにアクセスできます。\n",
      "機能 Azur e OpenAI\n",
      "使⽤できるモデル 新しい  GPT-4 シリーズ  ( プレビュー )\n",
      "GPT-3 ベース  シリーズ\n",
      "新しい  ChatGPT (gpt -35-turbo) ( プレビュー )\n",
      "Codex シリーズ\n",
      "埋め込みシリーズ\n",
      "詳細については、 モデルに関するページを参照してください。\n",
      "微調整 Ada\n",
      "Babbage\n",
      "Curie\n",
      "Cushman*\n",
      "Davinci*\n",
      "* 現在は利⽤できません。  ** ⽶国東部と⻄ヨーロッパでは、現在新\n",
      "規のお客様は微調整を利⽤できません。  ⽶国ベースのトレーニング\n",
      "には、⽶国中南部をご利⽤ください\n",
      "Price こちらで⼊⼿可能\n",
      "仮想ネットワークのサポ\n",
      "ート & プライベート  リン\n",
      "クのサポートはい\n",
      "マネージド  ID はい、 Azure Active Directory 経由\n",
      "UI エクスペリエンス アカウントとリソースの管理には  Azur e Portal、\n",
      "モデルの探索と微調整には  Azur e OpenAI Ser vice S tudio\n",
      "リージョン別の提供状況 ⽶国東部\n",
      "⽶国中南部\n",
      "⻄ヨーロッパ機能の概要\n",
      "###############\n",
      "ID: YjVjNGM2YjAtZjQwZi00YWViLTk2ZjQtYTA0MTMxOTgyYjAx\n",
      "Score: 0.88651544\n",
      "Metadata: {\"source\": \"../data/Azure OpenAI Service \\u3068\\u306f - Azure Cognitive Services _ Microsoft Learn.pdf\", \"page\": 2}\n",
      "Content: Azure OpenAI を使⽤すると、顧客は  OpenAI と同じモデルを実⾏しながら、 Microsoft\n",
      "Azure のセキュリティ機能を使⽤できます。  Azure OpenAI では、プライベート  ネット\n",
      "ワーク、リージョンの可⽤性、責任ある  AI コンテンツのフィルター処理が提供されま\n",
      "す。\n",
      "⼊⼒候補エンドポイントは、 API サービスのコア  コンポーネントです。  この  API は、\n",
      "モデルのテキストイン、テキストアウト  インターフェイスへのアクセスを提供しま\n",
      "す。 ユーザーは、英語のテキスト  コマンドを含む⼊⼒ プロンプトを⼊⼒するだけで、\n",
      "モデルによってテキスト ⼊⼒候補が⽣成されます。\n",
      "単純なプロンプトと⼊⼒候補の例を次に⽰します。\n",
      "プロンプト : \"\"\" count to 5 in a for loop \"\"\"\n",
      "⼊⼒候補 : for i in range(1, 6): print(i)\n",
      "Azure OpenAI では、テキストをトークンに分割して処理します。  トークンには、単語\n",
      "または⽂字のチャンクのみを指定できます。  たとえば、 \"hamburger\" という単語はト\n",
      "ークン  \"ham\"、 \"bur\" 、 \"ger\" に分割されますが、 \"pear\" のような短くて⼀般的な単語\n",
      "は 1 つのトークンです。  多くのトークンは、 \"hello\" や  \"bye\" などの空⽩で始まりま\n",
      "す。\n",
      "所与の要求で処理されるトークンの合計数は、⼊⼒、出⼒、および要求パラメーター\n",
      "の⻑さによって異なります。  処理されるトークンの量は、モデルの応答待機時間とス\n",
      "ループットにも影響します。\n",
      "Azure OpenAI は、 Azure の新しい製品オファリングです。  Azure OpenAI は、他の\n",
      "Azure 製品と同じように、 Azure サブスクリプションにこのサービス⽤の リソースまた\n",
      "はインスタンスを作成 して使⽤を開始できます。  Azure のリソース管理設計 について\n",
      "詳しくご覧いただけます。主要な概念\n",
      "プロンプトと⼊⼒候補\n",
      "トークン\n",
      "リソース\n",
      "デプロイメント\n",
      "###############\n",
      "ID: Yzg4YjM5ZDctYjI1MS00YmY4LWFjMmItZTY4MjMzOTU0OGZm\n",
      "Score: 0.8847311\n",
      "Metadata: {\"source\": \"../data/Azure OpenAI Service \\u3068\\u306f - Azure Cognitive Services _ Microsoft Learn.pdf\", \"page\": 1}\n",
      "Content: 機能 Azur e OpenAI\n",
      "コンテンツのフィルター\n",
      "処理プロンプトと⼊⼒候補は、⾃動システムを使ってコンテンツ  ポリシ\n",
      "ーに対して評価されます。  重⼤度の⾼いコンテンツはフィルターで\n",
      "除外されます。\n",
      "Microsoft は、⼈を第⼀に考える原則に基づいて、 AI の発展に取り組んでいます。\n",
      "Azure OpenAI で使⽤できる⽣成モデルには、かなりの潜在的利益がありますが、慎重\n",
      "な設計と熟考した軽減策がない場合、そのようなモデルによって、正しくない、また\n",
      "は有害なコンテンツが⽣成される可能性があります。  Microsoft は、悪⽤や意図しない\n",
      "損害から保護するために多⼤な投資を⾏っています。たとえば、明確に定義したユー\n",
      "ス ケースを⽰すことを申請者の要件とする、 責任ある  AI 使⽤に関する  Microsoft の原\n",
      "則を取り⼊れる、顧客をサポートするコンテンツ  フィルターを構築する、オンボー\n",
      "ドされた顧客に対して責任ある  AI 実装のガイダンスを提供するなどです。\n",
      "Azure OpenAI にアクセスするにはどうすればよいですか ?\n",
      "⾼い需要、今後の製品の機能強化、 Microsoft の責任ある  AI へのコミットメント を\n",
      "考慮し、現在、アクセスは制限されています。  現在のところ、 Microsoft と既存のパー\n",
      "トナーシップ関係があるお客様、リスクの低いユース  ケース、軽減策の取り⼊れに取\n",
      "り組んでいるお客様を対象としています。\n",
      "より具体的な情報は、申請フォームに記載されています。  Azure OpenAI に対するアク\n",
      "セスを拡⼤できるよう、責任を持って取り組んでいますので、しばらくお待ちくださ\n",
      "い。\n",
      "アクセスはこちらからお申し込みください。\n",
      "[今すぐ適⽤する ]\n",
      "Azure OpenAI Service では、 OpenAI GPT-4 、 GPT-3 、 Codex 、 DALL-E モデルを使⽤し\n",
      "た⾼度な⾔語  AI を顧客に提供し、 Azure のセキュリティとエンタープライズの約束を\n",
      "実現します。  Azure OpenAI は  OpenAI と共に  API を共同開発し、互換性を確保し、⼀\n",
      "⽅から他⽅へのスムーズな移⾏を保証します。責任ある  AI\n",
      "Azure OpenAI にアクセスするにはどうすれば\n",
      "よいですか ?\n",
      "Azure OpenAI と  OpenAI の⽐較\n"
     ]
    }
   ],
   "source": [
    "from azure.search.documents import SearchClient\n",
    "from azure.core.credentials import AzureKeyCredential\n",
    "\n",
    "query = \"Azure OpenAIで使えるモデルを教えて\"\n",
    "\n",
    "vector = embeddings.embed_query(query)\n",
    "search_client = SearchClient(\n",
    "    endpoint=AZURE_SEARCH_ENDPOINT,\n",
    "    index_name=index_name,\n",
    "    credential=AzureKeyCredential(AZURE_SEARCH_API_KEY_ADMIN)\n",
    "    )\n",
    "\n",
    "results = search_client.search(search_text=\"\", vector=vector, vector_fields=\"content_vector\", top_k=3)\n",
    "\n",
    "for result in results:\n",
    "    #print(json.dumps(result, indent=2, sort_keys=True))\n",
    "    print(\"###############\")\n",
    "    print(f\"ID: {result['id']}\")  \n",
    "    print(f\"Score: {result['@search.score']}\")  \n",
    "    print(f\"Metadata: {result['metadata']}\")  \n",
    "    print(f\"Content: {result['content']}\")  "
   ]
  },
  {
   "cell_type": "markdown",
   "metadata": {},
   "source": [
    "## インデックスの削除"
   ]
  },
  {
   "cell_type": "code",
   "execution_count": 14,
   "metadata": {},
   "outputs": [],
   "source": [
    "from azure.search.documents.indexes import SearchIndexClient\n",
    "\n",
    "si_client = SearchIndexClient(\n",
    "    endpoint=AZURE_SEARCH_ENDPOINT,\n",
    "    credential=AzureKeyCredential(AZURE_SEARCH_API_KEY_ADMIN)\n",
    "    )\n",
    "\n",
    "si_client.delete_index(index_name)"
   ]
  }
 ],
 "metadata": {
  "kernelspec": {
   "display_name": "llm-sample-env",
   "language": "python",
   "name": "llm-sample-env"
  },
  "language_info": {
   "codemirror_mode": {
    "name": "ipython",
    "version": 3
   },
   "file_extension": ".py",
   "mimetype": "text/x-python",
   "name": "python",
   "nbconvert_exporter": "python",
   "pygments_lexer": "ipython3",
   "version": "3.10.6"
  },
  "orig_nbformat": 4
 },
 "nbformat": 4,
 "nbformat_minor": 2
}
